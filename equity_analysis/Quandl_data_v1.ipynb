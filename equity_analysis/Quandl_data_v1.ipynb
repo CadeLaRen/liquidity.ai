{
 "cells": [
  {
   "cell_type": "code",
   "execution_count": 4,
   "metadata": {
    "collapsed": false
   },
   "outputs": [
    {
     "data": {
      "text/plain": [
       "u'/home/ubuntu/programming/liquidity.ai-predicting-financial-instruments-using-LSTMs/equity_analysis'"
      ]
     },
     "execution_count": 4,
     "metadata": {},
     "output_type": "execute_result"
    }
   ],
   "source": [
    "pwd"
   ]
  },
  {
   "cell_type": "code",
   "execution_count": 6,
   "metadata": {
    "collapsed": false
   },
   "outputs": [],
   "source": [
    "import pandas as pd\n",
    "import os\n",
    "from Quandl import Quandl\n",
    "import time"
   ]
  },
  {
   "cell_type": "code",
   "execution_count": 7,
   "metadata": {
    "collapsed": false
   },
   "outputs": [],
   "source": [
    "mydata = Quandl.get(\"FRED/GDP\")"
   ]
  },
  {
   "cell_type": "code",
   "execution_count": 8,
   "metadata": {
    "collapsed": false
   },
   "outputs": [
    {
     "data": {
      "text/html": [
       "<div>\n",
       "<table border=\"1\" class=\"dataframe\">\n",
       "  <thead>\n",
       "    <tr style=\"text-align: right;\">\n",
       "      <th></th>\n",
       "      <th>VALUE</th>\n",
       "    </tr>\n",
       "    <tr>\n",
       "      <th>DATE</th>\n",
       "      <th></th>\n",
       "    </tr>\n",
       "  </thead>\n",
       "  <tbody>\n",
       "    <tr>\n",
       "      <th>1947-01-01</th>\n",
       "      <td>243.1</td>\n",
       "    </tr>\n",
       "    <tr>\n",
       "      <th>1947-04-01</th>\n",
       "      <td>246.3</td>\n",
       "    </tr>\n",
       "    <tr>\n",
       "      <th>1947-07-01</th>\n",
       "      <td>250.1</td>\n",
       "    </tr>\n",
       "    <tr>\n",
       "      <th>1947-10-01</th>\n",
       "      <td>260.3</td>\n",
       "    </tr>\n",
       "    <tr>\n",
       "      <th>1948-01-01</th>\n",
       "      <td>266.2</td>\n",
       "    </tr>\n",
       "  </tbody>\n",
       "</table>\n",
       "</div>"
      ],
      "text/plain": [
       "            VALUE\n",
       "DATE             \n",
       "1947-01-01  243.1\n",
       "1947-04-01  246.3\n",
       "1947-07-01  250.1\n",
       "1947-10-01  260.3\n",
       "1948-01-01  266.2"
      ]
     },
     "execution_count": 8,
     "metadata": {},
     "output_type": "execute_result"
    }
   ],
   "source": [
    "mydata.head()"
   ]
  },
  {
   "cell_type": "code",
   "execution_count": 9,
   "metadata": {
    "collapsed": true
   },
   "outputs": [],
   "source": [
    "auth_tok = \"nmpd4FBBYEyUZj3wn91k\""
   ]
  },
  {
   "cell_type": "code",
   "execution_count": 10,
   "metadata": {
    "collapsed": true
   },
   "outputs": [],
   "source": [
    "data = Quandl.get(\"WIKI/KO\", trim_start = \"2000-12-12\", trim_end = \"2014-12-30\", authtoken=auth_tok)"
   ]
  },
  {
   "cell_type": "code",
   "execution_count": 11,
   "metadata": {
    "collapsed": false,
    "scrolled": false
   },
   "outputs": [
    {
     "name": "stdout",
     "output_type": "stream",
     "text": [
      "             Open     High     Low  Close    Volume  Ex-Dividend  Split Ratio  \\\n",
      "Date                                                                            \n",
      "2000-12-12  57.69  58.6900  57.630  58.00   4004100        0.000            1   \n",
      "2000-12-13  57.75  58.3100  57.250  57.81   3704900        0.000            1   \n",
      "2000-12-14  56.00  57.4400  55.750  57.00   5023800        0.000            1   \n",
      "2000-12-15  55.00  56.6900  53.500  53.50  13770200        0.000            1   \n",
      "2000-12-18  54.00  55.5600  53.630  54.88   5152300        0.000            1   \n",
      "2000-12-19  54.69  57.9400  54.690  56.75   5844100        0.000            1   \n",
      "2000-12-20  55.75  58.0000  55.560  56.25   6672100        0.000            1   \n",
      "2000-12-21  56.25  59.6300  56.130  59.38   5965400        0.000            1   \n",
      "2000-12-22  58.81  59.0000  57.500  58.88   3741800        0.000            1   \n",
      "2000-12-26  58.88  60.0000  58.620  60.00   2835000        0.000            1   \n",
      "2000-12-27  60.00  61.3800  60.000  60.56   3855500        0.000            1   \n",
      "2000-12-28  61.94  61.9400  60.560  61.06   2760400        0.000            1   \n",
      "2000-12-29  60.94  61.1300  60.190  60.94   2485200        0.000            1   \n",
      "2001-01-02  60.31  61.9400  60.250  60.81   5303000        0.000            1   \n",
      "2001-01-03  60.88  62.1900  59.060  59.25   6234800        0.000            1   \n",
      "2001-01-04  58.56  58.8800  56.750  57.56   7385300        0.000            1   \n",
      "2001-01-05  57.63  58.7500  57.500  57.69   3980100        0.000            1   \n",
      "2001-01-08  57.88  59.6900  57.810  58.63   4764600        0.000            1   \n",
      "2001-01-09  58.25  59.9400  57.630  59.38   4258100        0.000            1   \n",
      "2001-01-10  58.38  59.2500  57.880  59.13   3981600        0.000            1   \n",
      "2001-01-11  58.75  58.8800  57.130  57.38   3454500        0.000            1   \n",
      "2001-01-12  57.44  57.4400  56.250  56.63   3606000        0.000            1   \n",
      "2001-01-16  57.06  57.3100  56.190  57.00   3581800        0.000            1   \n",
      "2001-01-17  57.75  58.6900  57.060  57.94   3825900        0.000            1   \n",
      "2001-01-18  57.31  58.6900  56.940  57.13   3507200        0.000            1   \n",
      "2001-01-19  56.56  57.1300  55.310  55.81   4912100        0.000            1   \n",
      "2001-01-22  55.56  56.0600  55.190  55.69   3437300        0.000            1   \n",
      "2001-01-23  56.06  57.1900  55.440  56.88   3853900        0.000            1   \n",
      "2001-01-24  56.94  58.0600  56.130  58.06   4594700        0.000            1   \n",
      "2001-01-25  58.06  59.0000  57.810  58.63   3743400        0.000            1   \n",
      "...           ...      ...     ...    ...       ...          ...          ...   \n",
      "2014-11-17  42.75  42.9900  42.730  42.92  10663996        0.000            1   \n",
      "2014-11-18  42.95  43.8600  42.750  43.53  26143194        0.000            1   \n",
      "2014-11-19  43.67  44.4297  43.560  44.22  25400726        0.000            1   \n",
      "2014-11-20  43.96  44.4200  43.850  44.25  13465246        0.000            1   \n",
      "2014-11-21  44.58  44.7400  44.280  44.50  14382572        0.000            1   \n",
      "2014-11-24  44.51  44.7800  44.200  44.27  12890423        0.000            1   \n",
      "2014-11-25  44.27  44.5900  44.120  44.43  10741655        0.000            1   \n",
      "2014-11-26  43.99  44.3650  43.970  44.29   9200463        0.305            1   \n",
      "2014-11-28  44.15  45.0000  44.150  44.83  10501972        0.000            1   \n",
      "2014-12-01  44.18  44.7650  44.130  44.55  10065657        0.000            1   \n",
      "2014-12-02  44.37  44.6700  44.230  44.54   9878097        0.000            1   \n",
      "2014-12-03  44.42  44.4400  43.760  43.80  15246481        0.000            1   \n",
      "2014-12-04  43.62  43.8400  43.370  43.50  13804776        0.000            1   \n",
      "2014-12-05  43.50  43.6100  43.200  43.53  12536928        0.000            1   \n",
      "2014-12-08  43.51  43.6300  43.090  43.14  12805439        0.000            1   \n",
      "2014-12-09  42.15  42.5310  41.670  42.04  25684146        0.000            1   \n",
      "2014-12-10  42.04  42.2400  41.560  41.60  18323855        0.000            1   \n",
      "2014-12-11  41.62  42.0100  41.500  41.53  16201423        0.000            1   \n",
      "2014-12-12  41.39  41.6100  40.870  40.91  18431431        0.000            1   \n",
      "2014-12-15  41.13  41.1800  40.560  40.57  23378508        0.000            1   \n",
      "2014-12-16  40.20  41.3100  39.800  40.39  23474819        0.000            1   \n",
      "2014-12-17  40.44  41.7600  40.380  41.55  20223938        0.000            1   \n",
      "2014-12-18  41.86  42.3900  41.750  42.39  18030396        0.000            1   \n",
      "2014-12-19  42.44  42.7900  41.890  41.95  24009502        0.000            1   \n",
      "2014-12-22  42.14  42.4400  42.090  42.35  11190862        0.000            1   \n",
      "2014-12-23  42.54  43.1400  42.470  42.97  13411064        0.000            1   \n",
      "2014-12-24  43.10  43.2300  42.920  42.94   6405910        0.000            1   \n",
      "2014-12-26  42.97  43.3000  42.930  42.96   6466883        0.000            1   \n",
      "2014-12-29  42.80  43.0600  42.490  42.86   8694509        0.000            1   \n",
      "2014-12-30  42.74  42.9900  42.651  42.76   9222049        0.000            1   \n",
      "\n",
      "            Adj. Open  Adj. High   Adj. Low  Adj. Close  Adj. Volume  \n",
      "Date                                                                  \n",
      "2000-12-12  19.489514  19.827345  19.469244   19.594241      8008200  \n",
      "2000-12-13  19.509783  19.698969  19.340868   19.530053      7409800  \n",
      "2000-12-14  18.918578  19.405056  18.834120   19.256410     10047600  \n",
      "2000-12-15  18.580746  19.151682  18.073998   18.073998     27540400  \n",
      "2000-12-18  18.242914  18.769932  18.117917   18.540206     10304600  \n",
      "2000-12-19  18.476018  19.573971  18.476018   19.171952     11688200  \n",
      "2000-12-20  18.834120  19.594241  18.769932   19.003036     13344200  \n",
      "2000-12-21  19.003036  20.144907  18.962496   20.060449     11930800  \n",
      "2000-12-22  19.867885  19.932073  19.425325   19.891533      7483600  \n",
      "2000-12-26  19.891533  20.269905  19.803697   20.269905      5670000  \n",
      "2000-12-27  20.269905  20.736113  20.269905   20.459091      7711000  \n",
      "2000-12-28  20.925298  20.925298  20.459091   20.628006      5520800  \n",
      "2000-12-29  20.587467  20.651655  20.334093   20.587467      4970400  \n",
      "2001-01-02  20.374633  20.925298  20.354363   20.543549     10606000  \n",
      "2001-01-03  20.567197  21.009756  19.952343   20.016531     12469600  \n",
      "2001-01-04  19.783427  19.891533  19.171952   19.445595     14770600  \n",
      "2001-01-05  19.469244  19.847615  19.425325   19.489514      7960200  \n",
      "2001-01-08  19.553702  20.165177  19.530053   19.807075      9529200  \n",
      "2001-01-09  19.678699  20.249635  19.469244   20.060449      8516200  \n",
      "2001-01-10  19.722617  20.016531  19.553702   19.975991      7963200  \n",
      "2001-01-11  19.847615  19.891533  19.300328   19.384786      6909000  \n",
      "2001-01-12  19.405056  19.405056  19.003036   19.131412      7212000  \n",
      "2001-01-16  19.276680  19.361137  18.982766   19.256410      7163600  \n",
      "2001-01-17  19.509783  19.827345  19.276680   19.573971      7651800  \n",
      "2001-01-18  19.361137  19.827345  19.236140   19.300328      7014400  \n",
      "2001-01-19  19.107764  19.300328  18.685474   18.854390      9824200  \n",
      "2001-01-22  18.769932  18.938848  18.644934   18.813850      6874600  \n",
      "2001-01-23  18.938848  19.320598  18.729392   19.215870      7707800  \n",
      "2001-01-24  19.236140  19.614511  18.962496   19.614511      9189400  \n",
      "2001-01-25  19.614511  19.932073  19.530053   19.807075      7486800  \n",
      "...               ...        ...        ...         ...          ...  \n",
      "2014-11-17  41.098574  41.329303  41.079346   41.262007     10663996  \n",
      "2014-11-18  41.290848  42.165695  41.098574   41.848443     26143194  \n",
      "2014-11-19  41.983034  42.713387  41.877284   42.511788     25400726  \n",
      "2014-11-20  42.261832  42.704062  42.156081   42.540629     13465246  \n",
      "2014-11-21  42.857881  43.011700  42.569470   42.780972     14382572  \n",
      "2014-11-24  42.790585  43.050155  42.492561   42.559857     12890423  \n",
      "2014-11-25  42.559857  42.867495  42.415651   42.713676     10741655  \n",
      "2014-11-26  42.581905  42.944901  42.562545   42.872302      9200463  \n",
      "2014-11-28  42.736783  43.559575  42.736783   43.395017     10501972  \n",
      "2014-12-01  42.765823  43.332097  42.717423   43.123979     10065657  \n",
      "2014-12-02  42.949741  43.240138  42.814222   43.114299      9878097  \n",
      "2014-12-03  42.998141  43.017500  42.359267   42.397986     15246481  \n",
      "2014-12-04  42.223748  42.436706  41.981750   42.107589     13804776  \n",
      "2014-12-05  42.107589  42.214068  41.817192   42.136629     12536928  \n",
      "2014-12-08  42.117269  42.233428  41.710713   41.759113     12805439  \n",
      "2014-12-09  40.800802  41.169606  40.336167   40.694323     25684146  \n",
      "2014-12-10  40.694323  40.887921  40.229688   40.268407     18323855  \n",
      "2014-12-11  40.287767  40.665283  40.171608   40.200648     16201423  \n",
      "2014-12-12  40.065129  40.278087  39.561774   39.600494     18431431  \n",
      "2014-12-15  39.813452  39.861851  39.261697   39.271377     23378508  \n",
      "2014-12-16  38.913220  39.987690  38.526024   39.097139     23474819  \n",
      "2014-12-17  39.145538  40.423286  39.087459   40.220008     20223938  \n",
      "2014-12-18  40.520085  41.033120  40.413606   41.033120     18030396  \n",
      "2014-12-19  41.081519  41.420316  40.549124   40.607204     24009502  \n",
      "2014-12-22  40.791122  41.081519  40.742723   40.994400     11190862  \n",
      "2014-12-23  41.178318  41.759113  41.110559   41.594554     13411064  \n",
      "2014-12-24  41.720393  41.846232  41.546155   41.565515      6405910  \n",
      "2014-12-26  41.594554  41.913991  41.555835   41.584874      6466883  \n",
      "2014-12-29  41.429996  41.681673  41.129919   41.488075      8694509  \n",
      "2014-12-30  41.371916  41.613914  41.285765   41.391276      9222049  \n",
      "\n",
      "[3534 rows x 12 columns]\n"
     ]
    }
   ],
   "source": [
    "print(data)"
   ]
  },
  {
   "cell_type": "code",
   "execution_count": 12,
   "metadata": {
    "collapsed": false
   },
   "outputs": [
    {
     "name": "stdout",
     "output_type": "stream",
     "text": [
      "Token nmpd4FBBYEyUZj3wn91k activated and saved for later use.\n",
      "Name                       :        AMAZON COM INC (NASDAQ:AMZN) - Market Capitalization\n",
      "Quandl Code                :        SF1/AMZN_MARKETCAP                                \n",
      "Description                :        <p><b>Indicator Description</b> [Market Capitalization]: Represents the product of <a href='AMZN_SHARESBAS'>[SHARESBAS]</a>, <a href='AMZN_PRICE'>[PRICE]</a> and <a href='AMZN_SHAREFACTOR'>[SHAREFACTOR]</a>.</p> <p><b>Company Self Description</b> [AMAZON COM INC]: Amazon.com opened its virtual doors on the World Wide Web in July 1995. We seek to be Earth's most customer-centric company. In each of our two geographic segments, we serve our primary customer sets, consisting of consumers, sellers, enterprises, and content creators. In addition, we provide services, such as advertising services and co-branded credit card agreements.</p> <p><b>Dimension</b>:  - </p> <p><b>Statement</b>: Metrics</p> <p><b>Units</b>: USD</p> <p><b>Sector</b>: Services</p> <p><b>Ticker</b>: AMZN</p> <p><b>Exchange</b>: NASDAQ</p> <p><b>Index Membership</b>: S&P500, NASDAQ100, RUSSELL1000</p> \n",
      "Frequency                  :        monthly                                           \n",
      "Column Names               :        [u'Date', u'Value']                               \n",
      "\n",
      "\n",
      "\n"
     ]
    },
    {
     "data": {
      "text/plain": [
       "[{u'code': u'SF1/AMZN_MARKETCAP',\n",
       "  u'colname': [u'Date', u'Value'],\n",
       "  u'desc': u\"<p><b>Indicator Description</b> [Market Capitalization]: Represents the product of <a href='AMZN_SHARESBAS'>[SHARESBAS]</a>, <a href='AMZN_PRICE'>[PRICE]</a> and <a href='AMZN_SHAREFACTOR'>[SHAREFACTOR]</a>.</p> <p><b>Company Self Description</b> [AMAZON COM INC]: Amazon.com opened its virtual doors on the World Wide Web in July 1995. We seek to be Earth's most customer-centric company. In each of our two geographic segments, we serve our primary customer sets, consisting of consumers, sellers, enterprises, and content creators. In addition, we provide services, such as advertising services and co-branded credit card agreements.</p> <p><b>Dimension</b>:  - </p> <p><b>Statement</b>: Metrics</p> <p><b>Units</b>: USD</p> <p><b>Sector</b>: Services</p> <p><b>Ticker</b>: AMZN</p> <p><b>Exchange</b>: NASDAQ</p> <p><b>Index Membership</b>: S&P500, NASDAQ100, RUSSELL1000</p> \",\n",
       "  u'freq': u'monthly',\n",
       "  u'name': u'AMAZON COM INC (NASDAQ:AMZN) - Market Capitalization'}]"
      ]
     },
     "execution_count": 12,
     "metadata": {},
     "output_type": "execute_result"
    }
   ],
   "source": [
    "Quandl.search(query = \"AMZN_MARKETCAP\", source = \"SF1\", authtoken=auth_tok)"
   ]
  },
  {
   "cell_type": "code",
   "execution_count": null,
   "metadata": {
    "collapsed": true
   },
   "outputs": [],
   "source": [
    "mydata = Quandl.get(\"SF1/AMZN_MARKETCAP\", authtoken=auth_tok)"
   ]
  },
  {
   "cell_type": "code",
   "execution_count": null,
   "metadata": {
    "collapsed": false
   },
   "outputs": [],
   "source": [
    "mydata"
   ]
  },
  {
   "cell_type": "code",
   "execution_count": null,
   "metadata": {
    "collapsed": false,
    "scrolled": false
   },
   "outputs": [],
   "source": [
    "Quandl.search(query = \"COST\", source = \"SF1\", authtoken=auth_tok)"
   ]
  },
  {
   "cell_type": "code",
   "execution_count": null,
   "metadata": {
    "collapsed": false
   },
   "outputs": [],
   "source": [
    "mydata = Quandl.get(\"ZAR/COST\", authtoken=auth_tok)"
   ]
  },
  {
   "cell_type": "code",
   "execution_count": null,
   "metadata": {
    "collapsed": false
   },
   "outputs": [],
   "source": [
    "Quandl.get(\"ZAR/COST\", authtoken=\"nmpd4FBBYEyUZj3wn91k\")"
   ]
  },
  {
   "cell_type": "code",
   "execution_count": null,
   "metadata": {
    "collapsed": false
   },
   "outputs": [],
   "source": [
    "Quandl.get(\"FRED/NROU\", trim_start = \"2000-12-12\", trim_end = \"2015-11-30\", authtoken=auth_tok)"
   ]
  },
  {
   "cell_type": "code",
   "execution_count": null,
   "metadata": {
    "collapsed": false
   },
   "outputs": [],
   "source": [
    "Quandl.get(\"SF1/AMZN_SHAREFACTOR\", authtoken=auth_tok)"
   ]
  },
  {
   "cell_type": "code",
   "execution_count": null,
   "metadata": {
    "collapsed": true
   },
   "outputs": [],
   "source": []
  }
 ],
 "metadata": {
  "kernelspec": {
   "display_name": "Python 2",
   "language": "python",
   "name": "python2"
  },
  "language_info": {
   "codemirror_mode": {
    "name": "ipython",
    "version": 2
   },
   "file_extension": ".py",
   "mimetype": "text/x-python",
   "name": "python",
   "nbconvert_exporter": "python",
   "pygments_lexer": "ipython2",
   "version": "2.7.10"
  }
 },
 "nbformat": 4,
 "nbformat_minor": 0
}
